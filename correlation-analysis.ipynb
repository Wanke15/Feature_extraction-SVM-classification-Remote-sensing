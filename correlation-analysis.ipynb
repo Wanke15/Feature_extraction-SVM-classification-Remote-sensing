{
 "cells": [
  {
   "cell_type": "markdown",
   "metadata": {},
   "source": [
    "### Correlation analysis formula:\n",
    "\n",
    "<center> $ \\rho_{i, k} = \\frac{N^{11}N^{00} - N^{01}N^{10}} {\\sqrt{(N^{11}+N^{10})(N^{01}+N^{00})(N^{11}+N^{01})(N^{10}+N^{00})}} $ </center>\n",
    "\n",
    "where $ N^{11} $ and $ N^{00} $ represent the percentage of cases when both descriptors predicted correctly or incorrectly, respectively; while $ N^{10} $ and $ N^{01} $ represent cases of divergence, the first descriptor correctly predicts the class but not the second, and vice-versa, respectively; i and k refers to descriptor i and descriptor k."
   ]
  },
  {
   "cell_type": "code",
   "execution_count": 24,
   "metadata": {},
   "outputs": [],
   "source": [
    "import numpy as np"
   ]
  },
  {
   "cell_type": "code",
   "execution_count": 60,
   "metadata": {},
   "outputs": [],
   "source": [
    "data_true = np.array([1, 2, 3, 4, 5])\n",
    "\n",
    "data_cf1 = np.array([1, 2, 3, 4, 5])\n",
    "\n",
    "data_cf2 = np.array([1, 3, 3, 4, 5])"
   ]
  },
  {
   "cell_type": "code",
   "execution_count": 67,
   "metadata": {},
   "outputs": [
    {
     "data": {
      "text/plain": [
       "array([ True,  True,  True,  True,  True])"
      ]
     },
     "execution_count": 67,
     "metadata": {},
     "output_type": "execute_result"
    }
   ],
   "source": [
    "d1 = data_true == data_cf1\n",
    "data_true == data_cf1"
   ]
  },
  {
   "cell_type": "code",
   "execution_count": 68,
   "metadata": {},
   "outputs": [
    {
     "data": {
      "text/plain": [
       "array([ True, False,  True,  True,  True])"
      ]
     },
     "execution_count": 68,
     "metadata": {},
     "output_type": "execute_result"
    }
   ],
   "source": [
    "d2 = data_true == data_cf2\n",
    "data_true == data_cf2"
   ]
  },
  {
   "cell_type": "code",
   "execution_count": 65,
   "metadata": {},
   "outputs": [
    {
     "data": {
      "text/plain": [
       "array([ True,  True,  True,  True,  True])"
      ]
     },
     "execution_count": 65,
     "metadata": {},
     "output_type": "execute_result"
    }
   ],
   "source": [
    "d1 == True"
   ]
  },
  {
   "cell_type": "code",
   "execution_count": 66,
   "metadata": {},
   "outputs": [
    {
     "data": {
      "text/plain": [
       "array([False,  True, False, False, False])"
      ]
     },
     "execution_count": 66,
     "metadata": {},
     "output_type": "execute_result"
    }
   ],
   "source": [
    "d2 == False"
   ]
  },
  {
   "cell_type": "code",
   "execution_count": 32,
   "metadata": {},
   "outputs": [],
   "source": [
    "def compute_n10(gt, cf1, cf2):\n",
    "    assert gt.shape == cf1.shape ==cf2.shape\n",
    "    N = gt.shape[0]\n",
    "    a1 = gt == cf1\n",
    "    a2 = gt == cf2\n",
    "    \n",
    "    b1 = a1 == True\n",
    "    b2 = a2 ==False\n",
    "    \n",
    "    c = sum(b1 == b2)\n",
    "    \n",
    "    return c/N"
   ]
  },
  {
   "cell_type": "code",
   "execution_count": 33,
   "metadata": {},
   "outputs": [],
   "source": [
    "def compute_n11(gt, cf1, cf2):\n",
    "    assert gt.shape == cf1.shape ==cf2.shape\n",
    "    N = gt.shape[0]\n",
    "    a1 = gt == cf1\n",
    "    a2 = gt == cf2\n",
    "    \n",
    "    b1 = a1 == True\n",
    "    b2 = a2 ==True\n",
    "    \n",
    "    c = sum(b1 == b2)\n",
    "    \n",
    "    return c/N"
   ]
  },
  {
   "cell_type": "code",
   "execution_count": 34,
   "metadata": {},
   "outputs": [],
   "source": [
    "def compute_n00(gt, cf1, cf2):\n",
    "    assert gt.shape == cf1.shape ==cf2.shape\n",
    "    N = gt.shape[0]\n",
    "    a1 = gt == cf1\n",
    "    a2 = gt == cf2\n",
    "    \n",
    "    b1 = a1 == False\n",
    "    b2 = a2 ==False\n",
    "    \n",
    "    c = sum(b1 == b2)\n",
    "    \n",
    "    return c/N"
   ]
  },
  {
   "cell_type": "code",
   "execution_count": 35,
   "metadata": {},
   "outputs": [],
   "source": [
    "def compute_n01(gt, cf1, cf2):\n",
    "    assert gt.shape == cf1.shape ==cf2.shape\n",
    "    N = gt.shape[0]\n",
    "    a1 = gt == cf1\n",
    "    a2 = gt == cf2\n",
    "    \n",
    "    b1 = a1 == False\n",
    "    b2 = a2 ==True\n",
    "    \n",
    "    c = sum(b1 == b2)\n",
    "    \n",
    "    return c/N"
   ]
  },
  {
   "cell_type": "code",
   "execution_count": 43,
   "metadata": {},
   "outputs": [],
   "source": [
    "def correlation(gt, cf1, cf2):\n",
    "    n11 = compute_n11(gt, cf1, cf2)\n",
    "    n10 = compute_n10(gt, cf1, cf2)\n",
    "    n00 = compute_n00(gt, cf1, cf2)\n",
    "    n01 = compute_n01(gt, cf1, cf2)\n",
    "    \n",
    "    rho = (n11*n00-n01*n10)/(np.sqrt((n11+n10)*(n01+n00)*(n11+n01)*(n10+n00)))\n",
    "    return round(rho, 3)"
   ]
  },
  {
   "cell_type": "code",
   "execution_count": 77,
   "metadata": {},
   "outputs": [],
   "source": [
    "data_true = np.array([1, 2, 3, 4, 5])\n",
    "\n",
    "data_cf1 = np.array([1, 2, 3, 4, 5])\n",
    "\n",
    "data_cf2 = np.array([1, 4, 8, 2, 1])"
   ]
  },
  {
   "cell_type": "code",
   "execution_count": 78,
   "metadata": {},
   "outputs": [
    {
     "data": {
      "text/plain": [
       "-0.6"
      ]
     },
     "execution_count": 78,
     "metadata": {},
     "output_type": "execute_result"
    }
   ],
   "source": [
    "correlation(data_true, data_cf1, data_cf2)"
   ]
  },
  {
   "cell_type": "code",
   "execution_count": null,
   "metadata": {},
   "outputs": [],
   "source": []
  }
 ],
 "metadata": {
  "kernelspec": {
   "display_name": "Python 3",
   "language": "python",
   "name": "python3"
  },
  "language_info": {
   "codemirror_mode": {
    "name": "ipython",
    "version": 3
   },
   "file_extension": ".py",
   "mimetype": "text/x-python",
   "name": "python",
   "nbconvert_exporter": "python",
   "pygments_lexer": "ipython3",
   "version": "3.6.5"
  }
 },
 "nbformat": 4,
 "nbformat_minor": 2
}
